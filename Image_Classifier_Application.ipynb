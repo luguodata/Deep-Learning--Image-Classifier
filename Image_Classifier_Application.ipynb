{
 "cells": [
  {
   "cell_type": "markdown",
   "metadata": {},
   "source": [
    "# Developing an AI application of Image Classifier\n",
    "\n",
    "\n",
    "In this project, an image classifier will be trained to recognize different species of flowers. [This dataset](http://www.robots.ox.ac.uk/~vgg/data/flowers/102/index.html) of 102 flower categories will be used in this project. \n",
    "\n",
    "\n",
    "The project is broken down into multiple steps:\n",
    "\n",
    "* Load and preprocess the image dataset\n",
    "* Train the image classifier on your dataset\n",
    "* Use the trained classifier to predict image content\n",
    "\n",
    "After fininishing this part you will have an application that can be trained on any set of labeled images. \n",
    "\n",
    "### At first, loading packages at front which wiil be needed for the whole project"
   ]
  },
  {
   "cell_type": "code",
   "execution_count": 1,
   "metadata": {},
   "outputs": [],
   "source": [
    "# Imports here\n",
    "import torch\n",
    "from torchvision import datasets, transforms\n",
    "import torchvision.models as models\n",
    "\n",
    "import torch.nn as nn\n",
    "import torch.nn.functional as F\n",
    "from torch import optim\n",
    "\n",
    "import pandas as pd\n",
    "from collections import OrderedDict\n",
    "import json\n",
    "\n",
    "\n",
    "from PIL import Image\n",
    "import numpy as np\n",
    "import matplotlib.pyplot as plt"
   ]
  },
  {
   "cell_type": "markdown",
   "metadata": {},
   "source": [
    "## Load the data\n",
    "\n",
    "We'll use `torchvision` to load the data ([documentation](http://pytorch.org/docs/0.3.0/torchvision/index.html)).\n",
    "There are three parts of the dataset, training, validation, and testing. For the training, transformations such as random scaling, cropping, and flipping will be applied. This will help the network generalize leading to better performance. Also make sure the input data is resized to 224x224 pixels as required by the pre-trained networks.\n",
    "\n",
    "\n",
    "The validation and testing sets are used to measure the model's performance on data it hasn't seen yet. For this scaling or rotation transformations won't be needed, but need to resize then crop the images to the appropriate size.\n",
    "\n",
    "\n",
    "The pre-trained networks were trained on the ImageNet dataset where each color channel was normalized separately. For all three sets you'll need to normalize the means and standard deviations of the images to what the network expects. For the means, it's `[0.485, 0.456, 0.406]` and for the standard deviations `[0.229, 0.224, 0.225]`, calculated from the ImageNet images.  These values will shift each color channel to be centered at 0 and range from -1 to 1.\n",
    " "
   ]
  },
  {
   "cell_type": "code",
   "execution_count": 2,
   "metadata": {},
   "outputs": [],
   "source": [
    "data_dir = 'flowers'\n",
    "train_dir = data_dir + '/train'\n",
    "valid_dir = data_dir + '/valid'\n",
    "test_dir = data_dir + '/test'"
   ]
  },
  {
   "cell_type": "code",
   "execution_count": 3,
   "metadata": {},
   "outputs": [],
   "source": [
    "# Define transforms for the training, validation, and testing sets\n",
    "train_data_transforms = transforms.Compose([\n",
    "                                      transforms.Resize(256),\n",
    "                                      transforms.CenterCrop(224),\n",
    "                                      transforms.RandomRotation(30),\n",
    "                                      transforms.RandomHorizontalFlip(),\n",
    "                                      transforms.ToTensor(),\n",
    "                                      transforms.Normalize([0.485,0.456,0.406],\n",
    "                                                           [0.229,0.224,0.225])])\n",
    "\n",
    "valid_test_data_transforms = transforms.Compose([\n",
    "                                                 transforms.Resize(256),\n",
    "                                                 transforms.CenterCrop(224),\n",
    "                                                 transforms.ToTensor(),\n",
    "                                                 transforms.Normalize([0.485,0.456,0.406],\n",
    "                                                                      [0.229,0.224,0.225])])\n",
    "\n",
    "# Load the datasets with ImageFolder\n",
    "image_datasets_train = datasets.ImageFolder(train_dir, transform = train_data_transforms)\n",
    "image_datasets_validation = datasets.ImageFolder(valid_dir, transform = valid_test_data_transforms)\n",
    "image_datasets_test = datasets.ImageFolder(test_dir, transform = valid_test_data_transforms)\n",
    "\n",
    "\n",
    "\n",
    "# Using the image datasets and the trainforms, define the dataloaders\n",
    "train_dataloaders = torch.utils.data.DataLoader(image_datasets_train, batch_size= 64, shuffle= True)\n",
    "valid_dataloaders = torch.utils.data.DataLoader(image_datasets_validation, batch_size= 32, shuffle= True)\n",
    "test_dataloaders = torch.utils.data.DataLoader(image_datasets_test, batch_size= 32, shuffle= True)"
   ]
  },
  {
   "cell_type": "markdown",
   "metadata": {},
   "source": [
    "### Label mapping\n",
    "\n",
    "Mapping category label to category name. You can find this in the file `cat_to_name.json`. It's a JSON object which you can read in with the [`json` module](https://docs.python.org/2/library/json.html). This will give you a dictionary mapping the integer encoded categories to the actual names of the flowers."
   ]
  },
  {
   "cell_type": "code",
   "execution_count": 4,
   "metadata": {},
   "outputs": [],
   "source": [
    "with open('cat_to_name.json', 'r') as f:\n",
    "    cat_to_name = json.load(f)"
   ]
  },
  {
   "cell_type": "markdown",
   "metadata": {},
   "source": [
    "# Building and training the classifier\n",
    "\n",
    "Now that the data is ready, it's time to build and train the classifier. One of the pretrained models from `torchvision.models` to get the image features. Build and train a new feed-forward classifier using those features.\n",
    "\n",
    "\n",
    "* Load a [pre-trained network](http://pytorch.org/docs/master/torchvision/models.html) \n",
    "* Define a new, untrained feed-forward network as a classifier, using ReLU activations and dropout\n",
    "* Train the classifier layers using backpropagation using the pre-trained network to get the features\n",
    "* Track the loss and accuracy on the validation set to determine the best hyperparameters\n"
   ]
  },
  {
   "cell_type": "code",
   "execution_count": 5,
   "metadata": {},
   "outputs": [],
   "source": [
    "def network_build(pre_train_model, input_size, hidden_sizes, output_size, drop_p):\n",
    "    \"\"\" Load pre-trained network and construct new untrained feed-forward network as the classifer.\n",
    "    INPUT: pre_train_model, the selected pre-trained network from TorchVision.\n",
    "           input_size, int, the input size of the untrained feed-forward classifier.\n",
    "           hidden_sizes: list of int to represnet sizes of the network's hidden layer.\n",
    "           output_size, int,  the output size of the untrained feed-forward classifier\n",
    "           \n",
    "    OUTPUT: pre-trained model with new feed-forward classifer. \n",
    "    \"\"\"\n",
    "    \n",
    "    #initialize pre-tarined model\n",
    "    model = pre_train_model\n",
    "    \n",
    "    ## to be filled\n",
    "    for para in model.parameters():\n",
    "        para.requires_grad = False\n",
    "    \n",
    "    # intialize an empty newwork layer list for contraining new classifier\n",
    "    network_layers = []\n",
    "    \n",
    "    # first layer\n",
    "    network_layers.append(('fc1', nn.Linear(input_size, hidden_sizes[0])))\n",
    "    network_layers.append(('ReLu1', nn.ReLU()))\n",
    "    network_layers.append(('Dropout1', nn.Dropout(drop_p)))\n",
    "    \n",
    "    # hidden layers\n",
    "    for n in range(len(hidden_sizes)):\n",
    "        \n",
    "        if n == (len(hidden_sizes) - 1):\n",
    "            \n",
    "            network_layers.append(('fc_out', nn.Linear(hidden_sizes[n], output_size)))\n",
    "            network_layers.append(('out_log', nn.LogSoftmax(dim = 1))) \n",
    "            \n",
    "        else:\n",
    "            network_layers.append(('fc' + str(n+2), nn.Linear(hidden_sizes[n], hidden_sizes[n+1])))\n",
    "            network_layers.append(('ReLu' + str(n+2), nn.ReLU()))\n",
    "            network_layers.append(('Dropout' + str(n+2) , nn.Dropout(drop_p)))\n",
    "    \n",
    "    # construct feed-forward network with layer list\n",
    "    img_network = nn.Sequential(OrderedDict(network_layers))  \n",
    "    # set as pre-trained network's classifer\n",
    "    model.classifier = img_network    \n",
    "\n",
    "    return model"
   ]
  },
  {
   "cell_type": "code",
   "execution_count": 6,
   "metadata": {},
   "outputs": [],
   "source": [
    "def validation_test(trained_model, dataloaders_check, criterion, device):\n",
    "    \"\"\" Use trained image model to do prediction on validation dataset\n",
    "    INPUT: trained_model, the pretrained model with new classifier layers\n",
    "           dataloaders_check, validation/test dataloaders\n",
    "           criterion: used to calculate loss\n",
    "           device: 'cpu'/'cuda'\n",
    "    OUTPUT: validation/testing loss & accuracy\n",
    "    \"\"\"\n",
    "    # set as evaluation mode\n",
    "    trained_model.eval()\n",
    "    \n",
    "    # initialize metrics\n",
    "    val_test_loss = 0 \n",
    "    total_img = 0\n",
    "    val_test_correct_num = 0\n",
    "\n",
    "    for val_test_images, val_test_labels in iter(dataloaders_check):\n",
    "        \n",
    "        val_test_images, val_test_labels = val_test_images.to(device), val_test_labels.to(device)\n",
    "\n",
    "        # forward output\n",
    "        val_test_output = trained_model.forward(val_test_images)\n",
    "        # transform logged result to original\n",
    "        val_test_exp = torch.exp(val_test_output)\n",
    "        # record val_testidation set los\n",
    "        val_test_loss += criterion(val_test_output, val_test_labels).item()\n",
    "\n",
    "        # record pred correction number\n",
    "        total_img += len(val_test_images)\n",
    "        val_test_correct_num += (val_test_exp.max(dim = 1)[1] == val_test_labels.data).type(torch.FloatTensor).sum()\n",
    "\n",
    "    val_test_accuracy = val_test_correct_num/total_img\n",
    "    \n",
    "    return val_test_loss, val_test_accuracy"
   ]
  },
  {
   "cell_type": "code",
   "execution_count": 7,
   "metadata": {},
   "outputs": [],
   "source": [
    "def image_training_validation(epochs,model,dataloader_train, dataloader_valid, criterion, img_lr, device):\n",
    "    \"\"\" Train image NN model and do validation during training process\n",
    "    INPUT: epochs, int, number of training rounds\n",
    "           model, pre-trained model\n",
    "           dataloader_train, training dataset\n",
    "           dataloader_valid, validation dataset\n",
    "           criterion: used for calculating loss\n",
    "           img_lr: learning rate\n",
    "           device: 'cpu'/'cuda'\n",
    "    OUTPUT: trained model, print out training loss, validation loss and validation accuracy\n",
    "    \"\"\"\n",
    "    # set optimizer\n",
    "    img_optimizer = optim.Adam(model.classifier.parameters(), lr = img_lr)\n",
    "    \n",
    "    # defining initial metrics\n",
    "    training_loss = 0\n",
    "    training_loss = 0\n",
    "    print_fold = 40\n",
    "    \n",
    "    steps = 0\n",
    "    \n",
    "    model.to(device)\n",
    "    \n",
    "    for e in range(epochs):\n",
    "\n",
    "        for images, labels in iter(dataloader_train):\n",
    "\n",
    "            # set model as traning mode\n",
    "            model.train()\n",
    "\n",
    "            images, labels = images.to(device), labels.to(device)\n",
    "\n",
    "            steps += 1\n",
    "\n",
    "            img_optimizer.zero_grad()\n",
    "            # make forward feed\n",
    "            output = model.forward(images)\n",
    "\n",
    "            # take loss\n",
    "            loss = criterion(output, labels)\n",
    "\n",
    "            # backwards\n",
    "            loss.backward()\n",
    "\n",
    "            # aggregate training loss\n",
    "            training_loss += loss.item()\n",
    "\n",
    "            # update weights\n",
    "            img_optimizer.step()\n",
    "\n",
    "\n",
    "            # print training loss and test on validataion at every print_fold\n",
    "            if steps % print_fold == 0:\n",
    "\n",
    "                # output training loss\n",
    "                print('In No. {} epoch'.format(e+1))\n",
    "                print('training loss: {:.4f}'.format(training_loss))\n",
    "\n",
    "                # test on validation set\n",
    "                # set model as validation mode\n",
    "                with torch.no_grad():\n",
    "                    val_loss, val_accur = validation_test(model, dataloader_valid, criterion, device)\n",
    "\n",
    "                # print validation loss\n",
    "                print('validation loss: {:.4f}'.format(val_loss))\n",
    "\n",
    "                # print validation accuracy\n",
    "                print('validation accuracy: {:.2f}'.format(val_accur))\n",
    "\n",
    "                # reset training loss\n",
    "                training_loss = 0\n",
    "\n",
    "                # rest to train mode\n",
    "                model.train()\n",
    "    \n",
    "    return model"
   ]
  },
  {
   "cell_type": "code",
   "execution_count": 8,
   "metadata": {},
   "outputs": [
    {
     "data": {
      "text/plain": [
       "Sequential(\n",
       "  (fc1): Linear(in_features=25088, out_features=8000, bias=True)\n",
       "  (ReLu1): ReLU()\n",
       "  (Dropout1): Dropout(p=0.1)\n",
       "  (fc2): Linear(in_features=8000, out_features=3000, bias=True)\n",
       "  (ReLu2): ReLU()\n",
       "  (Dropout2): Dropout(p=0.1)\n",
       "  (fc_out): Linear(in_features=3000, out_features=121, bias=True)\n",
       "  (out_log): LogSoftmax()\n",
       ")"
      ]
     },
     "execution_count": 8,
     "metadata": {},
     "output_type": "execute_result"
    }
   ],
   "source": [
    "# set new feed-ward classifier\n",
    "flwer_model = network_build(models.vgg16_bn(pretrained= True), 25088, [8000, 3000], 121, 0.1)\n",
    "flwer_model.classifier"
   ]
  },
  {
   "cell_type": "code",
   "execution_count": 9,
   "metadata": {},
   "outputs": [
    {
     "name": "stdout",
     "output_type": "stream",
     "text": [
      "In No. 1 epoch\n",
      "training loss: 154.1115\n",
      "validation loss: 61.3442\n",
      "validation accuracy: 0.43\n",
      "In No. 1 epoch\n",
      "training loss: 73.0078\n",
      "validation loss: 33.3785\n",
      "validation accuracy: 0.65\n",
      "In No. 2 epoch\n",
      "training loss: 41.5157\n",
      "validation loss: 25.4523\n",
      "validation accuracy: 0.73\n",
      "In No. 2 epoch\n",
      "training loss: 28.8605\n",
      "validation loss: 21.0635\n",
      "validation accuracy: 0.77\n",
      "In No. 2 epoch\n",
      "training loss: 24.9231\n",
      "validation loss: 18.4915\n",
      "validation accuracy: 0.79\n",
      "In No. 3 epoch\n",
      "training loss: 18.1857\n",
      "validation loss: 16.0798\n",
      "validation accuracy: 0.84\n",
      "In No. 3 epoch\n",
      "training loss: 16.6824\n",
      "validation loss: 17.1092\n",
      "validation accuracy: 0.81\n",
      "In No. 4 epoch\n",
      "training loss: 15.1700\n",
      "validation loss: 16.9861\n",
      "validation accuracy: 0.82\n",
      "In No. 4 epoch\n",
      "training loss: 12.8252\n",
      "validation loss: 16.1556\n",
      "validation accuracy: 0.83\n",
      "In No. 4 epoch\n",
      "training loss: 12.0481\n",
      "validation loss: 14.6163\n",
      "validation accuracy: 0.85\n",
      "In No. 5 epoch\n",
      "training loss: 10.9395\n",
      "validation loss: 14.2704\n",
      "validation accuracy: 0.85\n",
      "In No. 5 epoch\n",
      "training loss: 9.3050\n",
      "validation loss: 16.7670\n",
      "validation accuracy: 0.84\n",
      "In No. 6 epoch\n",
      "training loss: 11.9372\n",
      "validation loss: 13.0218\n",
      "validation accuracy: 0.87\n",
      "In No. 6 epoch\n",
      "training loss: 7.1742\n",
      "validation loss: 13.2853\n",
      "validation accuracy: 0.88\n",
      "In No. 6 epoch\n",
      "training loss: 8.9715\n",
      "validation loss: 15.9734\n",
      "validation accuracy: 0.84\n"
     ]
    }
   ],
   "source": [
    "# Train the new constructed network\n",
    "flwer_model = image_training_validation(6,flwer_model,train_dataloaders,valid_dataloaders,nn.NLLLoss(),0.001,'cuda')"
   ]
  },
  {
   "cell_type": "markdown",
   "metadata": {},
   "source": [
    "## Testing network\n",
    "\n",
    "Test data will be used to test the trained model, images the network has never seen either in training or validation. "
   ]
  },
  {
   "cell_type": "code",
   "execution_count": 10,
   "metadata": {},
   "outputs": [
    {
     "data": {
      "text/plain": [
       "tensor(0.8547)"
      ]
     },
     "execution_count": 10,
     "metadata": {},
     "output_type": "execute_result"
    }
   ],
   "source": [
    "# Do validation on the test set\n",
    "with torch.no_grad():\n",
    "    test_loss, test_accu = validation_test(flwer_model, test_dataloaders, nn.NLLLoss(), 'cuda')\n",
    "    \n",
    "test_accu"
   ]
  },
  {
   "cell_type": "markdown",
   "metadata": {},
   "source": [
    "## Save the checkpoint\n",
    "\n",
    "Save the model so it can be loaded later for making predictions.To include any information needed in the checkpoint. "
   ]
  },
  {
   "cell_type": "code",
   "execution_count": 11,
   "metadata": {},
   "outputs": [],
   "source": [
    "# Save the checkpoint  \n",
    "flwer_model.class_to_idx = image_datasets_train.class_to_idx\n",
    "\n",
    "n_line = len(flwer_model.classifier)\n",
    "hiddensizes = []\n",
    "\n",
    "for n in range(n_line):\n",
    "    # check if is the 'Linear' object\n",
    "    if n % 3 == 0:\n",
    "        # check if the first\n",
    "        if n == 0:\n",
    "            # get the input size\n",
    "            inputsize = flwer_model.classifier[n].in_features\n",
    "        # check if the last for getting output size\n",
    "        elif n == n_line - 2:\n",
    "            # get the last hidden layer's size\n",
    "            hiddensizes.append(flwer_model.classifier[n].in_features)\n",
    "            # get the output size\n",
    "            outputsize = flwer_model.classifier[n].out_features\n",
    "            \n",
    "        # get the rest hidden sizes info\n",
    "        else:\n",
    "            hiddensizes.append(flwer_model.classifier[n].in_features)\n",
    "            \n",
    "    # get the drop out probability\n",
    "    if n == 2:\n",
    "        dropprop = flwer_model.classifier[n].p\n",
    "\n",
    "        \n",
    "# Save Model\n",
    "flwer_checkpoint = {'pre_trained_model':models.vgg16_bn(pretrained= True),\n",
    "                    'input_size': inputsize,\n",
    "                    'hidden_sizes': hiddensizes,\n",
    "                    'output_size': outputsize,\n",
    "                    'drop_prop': dropprop,\n",
    "                    'state_dict': flwer_model.state_dict(),\n",
    "                    'class_to_idx':flwer_model.class_to_idx}\n",
    "\n"
   ]
  },
  {
   "cell_type": "code",
   "execution_count": 12,
   "metadata": {},
   "outputs": [],
   "source": [
    "# Save the model\n",
    "torch.save(flwer_checkpoint,'VGG16_CN_flwer_checkpoint.pth')"
   ]
  },
  {
   "cell_type": "markdown",
   "metadata": {},
   "source": [
    "## Loading the checkpoint\n",
    "\n",
    "Write a function that can load a checkpoint and rebuild the model."
   ]
  },
  {
   "cell_type": "code",
   "execution_count": 13,
   "metadata": {},
   "outputs": [],
   "source": [
    "# Function that loads a checkpoint and rebuilds the model\n",
    "def load_flwer_model(flwer_file_path):\n",
    "    check_point = torch.load(flwer_file_path)\n",
    "    \n",
    "    model = network_build(check_point['pre_trained_model'], check_point['input_size'], check_point['hidden_sizes']\\\n",
    "                          ,check_point['output_size'], check_point['drop_prop'])\n",
    "    \n",
    "    model.load_state_dict(check_point['state_dict'])\n",
    "    model.class_to_idx = check_point['class_to_idx']\n",
    "    \n",
    "    return model"
   ]
  },
  {
   "cell_type": "code",
   "execution_count": 14,
   "metadata": {},
   "outputs": [],
   "source": [
    "# loads a checkpoint and rebuilds the model\n",
    "flwer_load_model = load_flwer_model('VGG16_CN_flwer_checkpoint.pth')"
   ]
  },
  {
   "cell_type": "markdown",
   "metadata": {},
   "source": [
    "# Inference for classification\n",
    "\n",
    "Build a function to use a trained network for inference. An image will be passed into the network and predict the class of the flower in the image. A function called `predict` that takes an image and a model, then returns the top $K$ most likely classes along with the probabilities. \n",
    "\n",
    "First process the input image such that it can be used in the network. \n",
    "\n",
    "## Image Preprocessing\n",
    "\n",
    "Use `PIL` to load the image ([documentation](https://pillow.readthedocs.io/en/latest/reference/Image.html)). \n",
    "\n",
    "First, resize the images where the shortest side is 256 pixels, keeping the aspect ratio. Then to crop out the center 224x224 portion of the image.\n",
    "\n",
    "Color channels of images are typically encoded as integers 0-255, but the model expected floats 0-1. The values need to be converted. \n",
    "\n",
    "Network expects the images to be normalized in a specific way. For the means, it's `[0.485, 0.456, 0.406]` and for the standard deviations `[0.229, 0.224, 0.225]`. Subtract the means from each color channel, then divide by the standard deviation. \n",
    "\n",
    "And finally, PyTorch expects the color channel to be the first dimension but it's the third dimension in the PIL image and Numpy array. Reorder dimensions using [`ndarray.transpose`](https://docs.scipy.org/doc/numpy-1.13.0/reference/generated/numpy.ndarray.transpose.html). The color channel needs to be first and retain the order of the other two dimensions."
   ]
  },
  {
   "cell_type": "code",
   "execution_count": 17,
   "metadata": {},
   "outputs": [],
   "source": [
    "\n",
    "def process_image(image):\n",
    "    ''' Scales, crops, and normalizes a PIL image for a PyTorch model,\n",
    "        returns an Numpy array\n",
    "    '''\n",
    "    \n",
    "    # TODO: Process a PIL image for use in a PyTorch model\n",
    "    \n",
    "    # resize\n",
    "    w, h = image.size\n",
    "    if w < h:\n",
    "        w_r = 256\n",
    "        h_r = int(w_r/w * h)\n",
    "    else:\n",
    "        h_r = 256\n",
    "        w_r = int(h_r/h * w)\n",
    "        \n",
    "    image_resize = image.resize((w_r,h_r))\n",
    "    \n",
    "    \n",
    "    # center crop\n",
    "    left_w = (w_r - 224)/2\n",
    "    right_w = (w_r + 224)/2\n",
    "    top_h = (h_r - 224 )/2\n",
    "    botm_h = (h_r + 224)/2\n",
    "    \n",
    "    image_crop = image_resize.crop((left_w,top_h,right_w,botm_h))\n",
    "    \n",
    "    # convert to 0-1\n",
    "    np_image = np.array(image_crop)/ 255\n",
    "    \n",
    "    normal_image = (np_image - np.array([0.485, 0.456, 0.406]))/np.array([0.229, 0.224, 0.225])\n",
    "    \n",
    "    # re-order\n",
    "    reorder_img = normal_image.transpose((2,0,1))\n",
    "    \n",
    "    return reorder_img"
   ]
  },
  {
   "cell_type": "markdown",
   "metadata": {},
   "source": [
    "To check your work, the function below converts a PyTorch tensor and displays it in the notebook. If your `process_image` function works, running the output through this function should return the original image (except for the cropped out portions)."
   ]
  },
  {
   "cell_type": "code",
   "execution_count": 18,
   "metadata": {},
   "outputs": [],
   "source": [
    "def imshow(image, ax=None, title=None):\n",
    "    if ax is None:\n",
    "        fig, ax = plt.subplots()\n",
    "    \n",
    "    # PyTorch tensors assume the color channel is the first dimension\n",
    "    # but matplotlib assumes is the third dimension\n",
    "    image = image.transpose((1, 2, 0))\n",
    "    \n",
    "    # Undo preprocessing\n",
    "    mean = np.array([0.485, 0.456, 0.406])\n",
    "    std = np.array([0.229, 0.224, 0.225])\n",
    "    image = std * image + mean\n",
    "    \n",
    "    # Image needs to be clipped between 0 and 1 or it looks like noise when displayed\n",
    "    image = np.clip(image, 0, 1)\n",
    "    \n",
    "    ax.imshow(image)\n",
    "    \n",
    "    return ax"
   ]
  },
  {
   "cell_type": "markdown",
   "metadata": {},
   "source": [
    "## Class Prediction\n",
    "\n",
    "It's time to make predictions with the model. Here to predict the top $K$ probable classes. Calculate the class probabilities then find the $K$ largest values.\n"
   ]
  },
  {
   "cell_type": "code",
   "execution_count": 19,
   "metadata": {},
   "outputs": [],
   "source": [
    "def predict(image_path, model, topk=5):\n",
    "    ''' Predict the class (or classes) of an image using a trained deep learning model.\n",
    "        Return predicted probablities and index\n",
    "    '''\n",
    "    \n",
    "    # Implement the code to predict the class from an image file\n",
    "    model.eval()\n",
    "    model.to('cpu')\n",
    "    model.double()\n",
    "    \n",
    "    img = process_image(Image.open(image_path))\n",
    "    \n",
    "    with torch.no_grad():\n",
    "        # forward output\n",
    "        pred_ori = model.forward(torch.from_numpy(img).unsqueeze_(0))\n",
    "        # transform logged result to original\n",
    "        pred = torch.exp(pred_ori)\n",
    "        \n",
    "        prob, idx = pred.topk(topk)\n",
    "    \n",
    "    return prob.numpy()[0].tolist(), idx.numpy()[0].tolist()"
   ]
  },
  {
   "cell_type": "code",
   "execution_count": 20,
   "metadata": {},
   "outputs": [],
   "source": [
    "spc_prob, spc_idx = predict('flowers/test/1/image_06752.jpg', flwer_load_model, 5)"
   ]
  },
  {
   "cell_type": "code",
   "execution_count": 21,
   "metadata": {},
   "outputs": [
    {
     "data": {
      "text/plain": [
       "[0.8907440921298848,\n",
       " 0.034758738961378585,\n",
       " 0.03186167662501379,\n",
       " 0.006285463590525101,\n",
       " 0.0038729565776644734]"
      ]
     },
     "execution_count": 21,
     "metadata": {},
     "output_type": "execute_result"
    }
   ],
   "source": [
    "spc_prob"
   ]
  },
  {
   "cell_type": "code",
   "execution_count": 22,
   "metadata": {},
   "outputs": [
    {
     "data": {
      "text/plain": [
       "[0, 66, 87, 95, 42]"
      ]
     },
     "execution_count": 22,
     "metadata": {},
     "output_type": "execute_result"
    }
   ],
   "source": [
    "spc_idx"
   ]
  },
  {
   "cell_type": "markdown",
   "metadata": {},
   "source": [
    "## Sanity Checking\n",
    "\n",
    "Use a trained model for predictions, check to make sure it makes sense. To plot the probabilities for the top 5 classes along with the input image. \n"
   ]
  },
  {
   "cell_type": "code",
   "execution_count": 23,
   "metadata": {},
   "outputs": [],
   "source": [
    "def pred_top_name(image_path, model, topk):\n",
    "    # prediction\n",
    "    spc_prob, spc_idx = predict(image_path, model, topk)\n",
    "    \n",
    "    # \n",
    "    spc_idx_class = []\n",
    "    spc_idx_names = []\n",
    "\n",
    "    for key, value_1 in model.class_to_idx.items():\n",
    "        for value_2 in spc_idx:\n",
    "            if value_1 == value_2:\n",
    "                spc_idx_class.append(key)\n",
    "\n",
    "    for cat in spc_idx_class:\n",
    "        spc_idx_names.append(cat_to_name[cat])\n",
    "    \n",
    "        \n",
    "    imshow(process_image(Image.open(image_path)))\n",
    "\n",
    "    \n",
    "    df = pd.DataFrame(list(zip(spc_idx_names,spc_prob)), columns= ['name','probabilty']).sort_values(['probabilty'], ascending = True)\n",
    "    df.plot.barh()\n",
    "    plt.yticks(range(len(df)), df['name'])\n",
    "    plt.show()\n",
    "    \n",
    "    return  "
   ]
  },
  {
   "cell_type": "code",
   "execution_count": 24,
   "metadata": {},
   "outputs": [
    {
     "data": {
      "image/png": "[encoded data removed]",
      "text/plain": [
       "<matplotlib.figure.Figure at 0x7f30f49495c0>"
      ]
     },
     "metadata": {
      "needs_background": "light"
     },
     "output_type": "display_data"
    },
    {
     "data": {
      "image/png": "[encoded data removed]",
      "text/plain": [
       "<matplotlib.figure.Figure at 0x7f30f487df28>"
      ]
     },
     "metadata": {
      "needs_background": "light"
     },
     "output_type": "display_data"
    }
   ],
   "source": [
    "pred_top_name('flowers/test/1/image_06752.jpg', flwer_load_model, 5)"
   ]
  }
 ],
 "metadata": {
  "kernelspec": {
   "display_name": "Python 3",
   "language": "python",
   "name": "python3"
  },
  "language_info": {
   "codemirror_mode": {
    "name": "ipython",
    "version": 3
   },
   "file_extension": ".py",
   "mimetype": "text/x-python",
   "name": "python",
   "nbconvert_exporter": "python",
   "pygments_lexer": "ipython3",
   "version": "3.7.1"
  }
 },
 "nbformat": 4,
 "nbformat_minor": 2
}
